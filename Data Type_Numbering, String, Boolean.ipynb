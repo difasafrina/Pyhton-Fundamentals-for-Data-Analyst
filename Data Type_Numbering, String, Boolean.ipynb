{
 "cells": [
  {
   "cell_type": "markdown",
   "id": "8d1037e7-2d1d-4e05-b9e2-efae3819cb78",
   "metadata": {},
   "source": [
    "INTGER, FLOAT, COMPLEX"
   ]
  },
  {
   "cell_type": "code",
   "execution_count": 2,
   "id": "1ab33858-7e8c-498a-ac8d-c21ca8907ac6",
   "metadata": {},
   "outputs": [
    {
     "data": {
      "text/plain": [
       "int"
      ]
     },
     "execution_count": 2,
     "metadata": {},
     "output_type": "execute_result"
    }
   ],
   "source": [
    "a = 5\n",
    "type(a)"
   ]
  },
  {
   "cell_type": "code",
   "execution_count": 3,
   "id": "88be9c96-736b-41a0-b849-fa3d45a9abb0",
   "metadata": {},
   "outputs": [
    {
     "data": {
      "text/plain": [
       "float"
      ]
     },
     "execution_count": 3,
     "metadata": {},
     "output_type": "execute_result"
    }
   ],
   "source": [
    "b = 5.25\n",
    "type(b)"
   ]
  },
  {
   "cell_type": "code",
   "execution_count": 6,
   "id": "fda77789-cf7d-44b5-a585-d3122570b0f1",
   "metadata": {},
   "outputs": [
    {
     "data": {
      "text/plain": [
       "complex"
      ]
     },
     "execution_count": 6,
     "metadata": {},
     "output_type": "execute_result"
    }
   ],
   "source": [
    "c = 5 - 1j\n",
    "type (c)"
   ]
  },
  {
   "cell_type": "markdown",
   "id": "647883e0-1743-4ac7-af6b-4250c31124fc",
   "metadata": {},
   "source": [
    "Integer is a data type that holds both positive and negative integers, such as 1, 10, 100, -1, -20, -100 and so on.\n",
    "While float is a data type that holds decimal/fractional numbers."
   ]
  },
  {
   "cell_type": "markdown",
   "id": "75bf31a9-ba51-4c8a-b107-835ab6f79694",
   "metadata": {},
   "source": [
    "STRING"
   ]
  },
  {
   "cell_type": "code",
   "execution_count": 11,
   "id": "2ae5873d-8015-435e-843a-12814f25a400",
   "metadata": {},
   "outputs": [
    {
     "data": {
      "text/plain": [
       "str"
      ]
     },
     "execution_count": 11,
     "metadata": {},
     "output_type": "execute_result"
    }
   ],
   "source": [
    "c = \"hello world\"\n",
    "type (c)"
   ]
  },
  {
   "cell_type": "code",
   "execution_count": 12,
   "id": "5708e728-0462-41dd-ad93-374ddf029212",
   "metadata": {},
   "outputs": [
    {
     "data": {
      "text/plain": [
       "str"
      ]
     },
     "execution_count": 12,
     "metadata": {},
     "output_type": "execute_result"
    }
   ],
   "source": [
    "d = 'hello world'\n",
    "type (d)"
   ]
  },
  {
   "cell_type": "markdown",
   "id": "59828481-fed4-4105-ade8-f5a909c1afe4",
   "metadata": {},
   "source": [
    "String writing must be within quotation marks, you can use either single quote (' ') or double quote (\" \")."
   ]
  },
  {
   "cell_type": "code",
   "execution_count": 7,
   "id": "140bba86-a2a8-41d7-8b7c-7b00d007f7fe",
   "metadata": {},
   "outputs": [
    {
     "name": "stdout",
     "output_type": "stream",
     "text": [
      "Boothcamp Data Analyst\n",
      "Kampus Merdeka X MyEduDSolve\n",
      "Kelas B\n"
     ]
    }
   ],
   "source": [
    "a = \"\"\"Boothcamp Data Analyst\n",
    "Kampus Merdeka X MyEduDSolve\n",
    "Kelas B\"\"\"\n",
    "\n",
    "print (a)"
   ]
  },
  {
   "cell_type": "code",
   "execution_count": 19,
   "id": "dab54472-75d3-4452-81c0-c088c5a3c3e7",
   "metadata": {},
   "outputs": [
    {
     "name": "stdout",
     "output_type": "stream",
     "text": [
      " Kelompok 1:\n",
      "1. Aisyah\n",
      "2. Difa\n",
      "3. Irfan\n",
      "4. Salsa\n"
     ]
    }
   ],
   "source": [
    "b = \"\"\" Kelompok 1:\n",
    "1. Aisyah\n",
    "2. Difa\n",
    "3. Irfan\n",
    "4. Salsa\"\"\"\n",
    "\n",
    "print (b)"
   ]
  },
  {
   "cell_type": "code",
   "execution_count": 20,
   "id": "d76b1c88-b9f2-4a98-8253-06d3124599ac",
   "metadata": {},
   "outputs": [
    {
     "name": "stdout",
     "output_type": "stream",
     "text": [
      " Kelompok 1:\n",
      "1. Aisyah\n",
      "2. Difa\n",
      "3. Irfan\n",
      "4. Salsa\n"
     ]
    }
   ],
   "source": [
    "c = \"boothcamp data science.\\nKampus Merdeka X MyEduSolve. \\nkelas B\"\n",
    "print (b)"
   ]
  },
  {
   "cell_type": "code",
   "execution_count": 21,
   "id": "c1cfff05-7b2e-4d71-8963-8fd265492ad2",
   "metadata": {},
   "outputs": [
    {
     "name": "stdout",
     "output_type": "stream",
     "text": [
      "boothcamp data science.\n",
      "Kampus Merdeka X MyEduSolve. \n",
      "kelas B\n"
     ]
    }
   ],
   "source": [
    "d = \"jum'at\"\n",
    "print(c)"
   ]
  },
  {
   "cell_type": "code",
   "execution_count": 22,
   "id": "adc31514-b710-48d2-b9a6-2b76e07fe6f5",
   "metadata": {},
   "outputs": [
    {
     "ename": "SyntaxError",
     "evalue": "unterminated string literal (detected at line 3) (649680973.py, line 3)",
     "output_type": "error",
     "traceback": [
      "\u001b[1;36m  Cell \u001b[1;32mIn[22], line 3\u001b[1;36m\u001b[0m\n\u001b[1;33m    d = 'jum'at'\u001b[0m\n\u001b[1;37m               ^\u001b[0m\n\u001b[1;31mSyntaxError\u001b[0m\u001b[1;31m:\u001b[0m unterminated string literal (detected at line 3)\n"
     ]
    }
   ],
   "source": [
    "#dont do this\n",
    "\n",
    "d = 'jum'at'\n",
    "\n",
    "print(c)"
   ]
  },
  {
   "cell_type": "markdown",
   "id": "138cf7c0-410e-4a3d-a6dc-13232262adc1",
   "metadata": {},
   "source": [
    "BOOLEAN\n",
    "\n",
    "In programming you often need to know if an expression is True or False."
   ]
  },
  {
   "cell_type": "code",
   "execution_count": 14,
   "id": "6c2994d8-0087-4fab-b677-e9b07ba81261",
   "metadata": {},
   "outputs": [
    {
     "data": {
      "text/plain": [
       "False"
      ]
     },
     "execution_count": 14,
     "metadata": {},
     "output_type": "execute_result"
    }
   ],
   "source": [
    "4 > 9"
   ]
  },
  {
   "cell_type": "code",
   "execution_count": 15,
   "id": "d8edb10d-7975-4405-9214-f90a63154bc0",
   "metadata": {},
   "outputs": [
    {
     "data": {
      "text/plain": [
       "True"
      ]
     },
     "execution_count": 15,
     "metadata": {},
     "output_type": "execute_result"
    }
   ],
   "source": [
    "9 != 8"
   ]
  },
  {
   "cell_type": "code",
   "execution_count": 17,
   "id": "bf614bbb-4ec8-4b6c-9e65-85ba93e9bede",
   "metadata": {},
   "outputs": [
    {
     "data": {
      "text/plain": [
       "True"
      ]
     },
     "execution_count": 17,
     "metadata": {},
     "output_type": "execute_result"
    }
   ],
   "source": [
    "7 <= 10"
   ]
  },
  {
   "cell_type": "code",
   "execution_count": 18,
   "id": "d54fe763-08f2-446e-aa19-1152eb1e74ac",
   "metadata": {},
   "outputs": [
    {
     "data": {
      "text/plain": [
       "False"
      ]
     },
     "execution_count": 18,
     "metadata": {},
     "output_type": "execute_result"
    }
   ],
   "source": [
    "3 == 4"
   ]
  },
  {
   "cell_type": "code",
   "execution_count": null,
   "id": "6ad54815-279c-462e-a34a-49d15caad8d7",
   "metadata": {},
   "outputs": [],
   "source": []
  }
 ],
 "metadata": {
  "kernelspec": {
   "display_name": "Python 3 (ipykernel)",
   "language": "python",
   "name": "python3"
  },
  "language_info": {
   "codemirror_mode": {
    "name": "ipython",
    "version": 3
   },
   "file_extension": ".py",
   "mimetype": "text/x-python",
   "name": "python",
   "nbconvert_exporter": "python",
   "pygments_lexer": "ipython3",
   "version": "3.11.7"
  },
  "widgets": {
   "application/vnd.jupyter.widget-state+json": {
    "state": {},
    "version_major": 2,
    "version_minor": 0
   }
  }
 },
 "nbformat": 4,
 "nbformat_minor": 5
}

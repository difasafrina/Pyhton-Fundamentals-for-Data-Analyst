{
 "cells": [
  {
   "cell_type": "markdown",
   "id": "4f6dde39-1fe6-464c-9ee0-d42a8b8676aa",
   "metadata": {},
   "source": [
    "Slicing is the extraction of a part of a string, list, or tuple.\n",
    "It enables users to access the specific range of elements by mentioning their indices"
   ]
  },
  {
   "cell_type": "code",
   "execution_count": 5,
   "id": "2d3aa991-4f35-4450-875e-bd2ef99e28f4",
   "metadata": {},
   "outputs": [
    {
     "name": "stdout",
     "output_type": "stream",
     "text": [
      "['Kelompok', 1, 2, 3, 4, 5, 'Data Analyst B']\n"
     ]
    }
   ],
   "source": [
    "a = [\"Kelompok\", 1, 2, 3, 4, 5 ,\"Data Analyst B\"]\n",
    "print (a)"
   ]
  },
  {
   "cell_type": "code",
   "execution_count": 6,
   "id": "2e8a6bef-4078-41ff-8487-707bfe26d287",
   "metadata": {},
   "outputs": [
    {
     "data": {
      "text/plain": [
       "list"
      ]
     },
     "execution_count": 6,
     "metadata": {},
     "output_type": "execute_result"
    }
   ],
   "source": [
    "type (a)"
   ]
  },
  {
   "cell_type": "code",
   "execution_count": 2,
   "id": "585f7ce5-4434-4a79-946c-e6cd7fe3f8e9",
   "metadata": {},
   "outputs": [
    {
     "name": "stdout",
     "output_type": "stream",
     "text": [
      "(2, 'April', 2024)\n"
     ]
    }
   ],
   "source": [
    "a = (2,'April', 2024)\n",
    "print (a)"
   ]
  },
  {
   "cell_type": "code",
   "execution_count": 3,
   "id": "a39f229a-7751-4f1e-9988-e2057125bd23",
   "metadata": {},
   "outputs": [
    {
     "data": {
      "text/plain": [
       "tuple"
      ]
     },
     "execution_count": 3,
     "metadata": {},
     "output_type": "execute_result"
    }
   ],
   "source": [
    "type(a)"
   ]
  },
  {
   "cell_type": "code",
   "execution_count": null,
   "id": "19289c1c-85bd-4482-992e-b595a23c6e77",
   "metadata": {},
   "outputs": [],
   "source": []
  }
 ],
 "metadata": {
  "kernelspec": {
   "display_name": "Python 3 (ipykernel)",
   "language": "python",
   "name": "python3"
  },
  "language_info": {
   "codemirror_mode": {
    "name": "ipython",
    "version": 3
   },
   "file_extension": ".py",
   "mimetype": "text/x-python",
   "name": "python",
   "nbconvert_exporter": "python",
   "pygments_lexer": "ipython3",
   "version": "3.11.7"
  },
  "widgets": {
   "application/vnd.jupyter.widget-state+json": {
    "state": {},
    "version_major": 2,
    "version_minor": 0
   }
  }
 },
 "nbformat": 4,
 "nbformat_minor": 5
}

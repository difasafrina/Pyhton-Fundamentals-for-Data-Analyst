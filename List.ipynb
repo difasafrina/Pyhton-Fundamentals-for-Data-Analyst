{
 "cells": [
  {
   "cell_type": "code",
   "execution_count": 4,
   "id": "133205a9-4c45-47ab-a3c2-1e1254cc9124",
   "metadata": {},
   "outputs": [
    {
     "data": {
      "text/plain": [
       "list"
      ]
     },
     "execution_count": 4,
     "metadata": {},
     "output_type": "execute_result"
    }
   ],
   "source": [
    "a = [5, 6.7, 'delapan']\n",
    "\n",
    "type(a)"
   ]
  },
  {
   "cell_type": "code",
   "execution_count": 7,
   "id": "a6591960-2a10-4c70-90ad-d0693a00f08d",
   "metadata": {},
   "outputs": [
    {
     "data": {
      "text/plain": [
       "list"
      ]
     },
     "execution_count": 7,
     "metadata": {},
     "output_type": "execute_result"
    }
   ],
   "source": [
    "buah = ['durina', 'dukuh', 'delima']\n",
    "type (buah)"
   ]
  },
  {
   "cell_type": "code",
   "execution_count": 3,
   "id": "dd3834ca-d86b-4b29-8de7-6ed30f1a0055",
   "metadata": {},
   "outputs": [
    {
     "name": "stdout",
     "output_type": "stream",
     "text": [
      "[5, 6.7, 'delapan']\n",
      "[5, 1, 7]\n"
     ]
    }
   ],
   "source": [
    "a = [5, 6.7, 'delapan']\n",
    "b = [5,1,7]\n",
    "\n",
    "print (a)\n",
    "print (b)"
   ]
  },
  {
   "cell_type": "markdown",
   "id": "401ee9ae-ddc7-490a-b301-04d34b758739",
   "metadata": {},
   "source": [
    "Every data in the index starts from 0"
   ]
  },
  {
   "cell_type": "code",
   "execution_count": 9,
   "id": "8214ad94-717d-4beb-98fb-959016628f62",
   "metadata": {},
   "outputs": [
    {
     "name": "stdout",
     "output_type": "stream",
     "text": [
      "5\n"
     ]
    }
   ],
   "source": [
    "a [0] = 5\n",
    "print (a [0])"
   ]
  }
 ],
 "metadata": {
  "kernelspec": {
   "display_name": "Python 3 (ipykernel)",
   "language": "python",
   "name": "python3"
  },
  "language_info": {
   "codemirror_mode": {
    "name": "ipython",
    "version": 3
   },
   "file_extension": ".py",
   "mimetype": "text/x-python",
   "name": "python",
   "nbconvert_exporter": "python",
   "pygments_lexer": "ipython3",
   "version": "3.11.7"
  },
  "widgets": {
   "application/vnd.jupyter.widget-state+json": {
    "state": {},
    "version_major": 2,
    "version_minor": 0
   }
  }
 },
 "nbformat": 4,
 "nbformat_minor": 5
}

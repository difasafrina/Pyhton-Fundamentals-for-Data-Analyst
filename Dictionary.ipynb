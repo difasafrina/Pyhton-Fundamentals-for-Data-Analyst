{
 "cells": [
  {
   "cell_type": "code",
   "execution_count": 5,
   "id": "8ca8eee8-47b8-48df-af14-e06dce5e8a88",
   "metadata": {},
   "outputs": [],
   "source": [
    "a = {'nama': 'lulu', 'usia' : 25}"
   ]
  },
  {
   "cell_type": "code",
   "execution_count": 6,
   "id": "4c0c2509-1044-4921-971f-db5c30f6a8eb",
   "metadata": {},
   "outputs": [
    {
     "name": "stdout",
     "output_type": "stream",
     "text": [
      "{'nama': 'lulu', 'usia': 25}\n"
     ]
    }
   ],
   "source": [
    "print(a)"
   ]
  },
  {
   "cell_type": "code",
   "execution_count": 7,
   "id": "7d23a814-8113-4854-a69e-561baad607ae",
   "metadata": {},
   "outputs": [
    {
     "data": {
      "text/plain": [
       "dict"
      ]
     },
     "execution_count": 7,
     "metadata": {},
     "output_type": "execute_result"
    }
   ],
   "source": [
    "type(a)"
   ]
  },
  {
   "cell_type": "code",
   "execution_count": 8,
   "id": "1f1d6105-5382-46e8-9c11-0652a646a823",
   "metadata": {},
   "outputs": [
    {
     "data": {
      "text/plain": [
       "'lulu'"
      ]
     },
     "execution_count": 8,
     "metadata": {},
     "output_type": "execute_result"
    }
   ],
   "source": [
    "a ['nama']"
   ]
  },
  {
   "cell_type": "code",
   "execution_count": 9,
   "id": "56402da9-7663-409c-a754-771b1faad997",
   "metadata": {},
   "outputs": [
    {
     "data": {
      "text/plain": [
       "25"
      ]
     },
     "execution_count": 9,
     "metadata": {},
     "output_type": "execute_result"
    }
   ],
   "source": [
    "a ['usia']"
   ]
  },
  {
   "cell_type": "markdown",
   "id": "877acc07-94b5-41b6-af8c-eaa0a6be2b87",
   "metadata": {},
   "source": [
    "Is not an index order implementation. for example in the following example\r\n",
    "tried with index 0, but it returned error 9 (keyerror) because there was no key 0."
   ]
  },
  {
   "cell_type": "code",
   "execution_count": 10,
   "id": "2bd245e2-4cc1-43b3-bcf5-2a502f22db07",
   "metadata": {},
   "outputs": [
    {
     "ename": "KeyError",
     "evalue": "0",
     "output_type": "error",
     "traceback": [
      "\u001b[1;31m---------------------------------------------------------------------------\u001b[0m",
      "\u001b[1;31mKeyError\u001b[0m                                  Traceback (most recent call last)",
      "Cell \u001b[1;32mIn[10], line 1\u001b[0m\n\u001b[1;32m----> 1\u001b[0m a[\u001b[38;5;241m0\u001b[39m]\n",
      "\u001b[1;31mKeyError\u001b[0m: 0"
     ]
    }
   ],
   "source": [
    "a[0]"
   ]
  },
  {
   "cell_type": "code",
   "execution_count": 11,
   "id": "62fa93cf-80b2-476c-a17a-dc4cec5c2cbc",
   "metadata": {},
   "outputs": [],
   "source": [
    "b = {'nama' : {'nama1':'lala',\n",
    "              'nama2' :'lili'}\n",
    "    }"
   ]
  },
  {
   "cell_type": "code",
   "execution_count": 12,
   "id": "c5f77b31-c5a0-4849-9ef3-5e1dda396cf1",
   "metadata": {},
   "outputs": [
    {
     "data": {
      "text/plain": [
       "'lala'"
      ]
     },
     "execution_count": 12,
     "metadata": {},
     "output_type": "execute_result"
    }
   ],
   "source": [
    "b ['nama']['nama1']"
   ]
  },
  {
   "cell_type": "code",
   "execution_count": null,
   "id": "2b7e03dd-ce76-429e-984c-df376f3f31bd",
   "metadata": {},
   "outputs": [],
   "source": []
  }
 ],
 "metadata": {
  "kernelspec": {
   "display_name": "Python 3 (ipykernel)",
   "language": "python",
   "name": "python3"
  },
  "language_info": {
   "codemirror_mode": {
    "name": "ipython",
    "version": 3
   },
   "file_extension": ".py",
   "mimetype": "text/x-python",
   "name": "python",
   "nbconvert_exporter": "python",
   "pygments_lexer": "ipython3",
   "version": "3.11.7"
  },
  "widgets": {
   "application/vnd.jupyter.widget-state+json": {
    "state": {},
    "version_major": 2,
    "version_minor": 0
   }
  }
 },
 "nbformat": 4,
 "nbformat_minor": 5
}

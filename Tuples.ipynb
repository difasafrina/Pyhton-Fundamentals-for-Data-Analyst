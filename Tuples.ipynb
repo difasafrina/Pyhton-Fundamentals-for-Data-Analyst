{
 "cells": [
  {
   "cell_type": "markdown",
   "id": "eaaae22c-303f-4980-a2b2-92b826001d7d",
   "metadata": {},
   "source": [
    "A type of list that cannot change its elements. Generally used for one-time data, and can be accessed quickly. tuples are defined with brackets and elements separated by commas. Tuples are a type of data structure that is very similar to lists. The main difference between the two is that tuples are immutable, meaning they cannot be changed once they are created."
   ]
  },
  {
   "cell_type": "code",
   "execution_count": 1,
   "id": "1b295bc3-04b8-4b4d-8dbd-871e81dca9f8",
   "metadata": {},
   "outputs": [
    {
     "name": "stdout",
     "output_type": "stream",
     "text": [
      "(2, 'buku', 3.5)\n"
     ]
    }
   ],
   "source": [
    "a = (2,'buku', 3.5)\n",
    "print (a)"
   ]
  },
  {
   "cell_type": "code",
   "execution_count": 2,
   "id": "0485eba1-2141-46ca-8ac4-b0a5c16e5030",
   "metadata": {},
   "outputs": [
    {
     "data": {
      "text/plain": [
       "tuple"
      ]
     },
     "execution_count": 2,
     "metadata": {},
     "output_type": "execute_result"
    }
   ],
   "source": [
    "type (a)"
   ]
  },
  {
   "cell_type": "code",
   "execution_count": 3,
   "id": "feea6dde-1f59-42c9-a6b0-0cf14284ada1",
   "metadata": {},
   "outputs": [
    {
     "name": "stdout",
     "output_type": "stream",
     "text": [
      "buku\n"
     ]
    }
   ],
   "source": [
    "print (a[1])"
   ]
  },
  {
   "cell_type": "code",
   "execution_count": 4,
   "id": "c28ae218-d4e5-4be1-9bd5-3ee191d6417c",
   "metadata": {},
   "outputs": [
    {
     "name": "stdout",
     "output_type": "stream",
     "text": [
      "(2, 'buku')\n"
     ]
    }
   ],
   "source": [
    "print (a [0:2])"
   ]
  },
  {
   "cell_type": "code",
   "execution_count": 5,
   "id": "a475a8b9-d9b6-4eda-968b-f60a445fedde",
   "metadata": {},
   "outputs": [
    {
     "name": "stdout",
     "output_type": "stream",
     "text": [
      "False\n"
     ]
    }
   ],
   "source": [
    "print (a[0]==5)"
   ]
  },
  {
   "cell_type": "code",
   "execution_count": 6,
   "id": "011e3a2e-e03e-4609-a9ef-ba75b05d488a",
   "metadata": {},
   "outputs": [
    {
     "ename": "TypeError",
     "evalue": "'tuple' object does not support item assignment",
     "output_type": "error",
     "traceback": [
      "\u001b[1;31m---------------------------------------------------------------------------\u001b[0m",
      "\u001b[1;31mTypeError\u001b[0m                                 Traceback (most recent call last)",
      "Cell \u001b[1;32mIn[6], line 1\u001b[0m\n\u001b[1;32m----> 1\u001b[0m a [\u001b[38;5;241m0\u001b[39m] \u001b[38;5;241m=\u001b[39m \u001b[38;5;124m'\u001b[39m\u001b[38;5;124mbuku\u001b[39m\u001b[38;5;124m'\u001b[39m\n",
      "\u001b[1;31mTypeError\u001b[0m: 'tuple' object does not support item assignment"
     ]
    }
   ],
   "source": [
    "a [0] = 'buku'"
   ]
  },
  {
   "cell_type": "code",
   "execution_count": null,
   "id": "fee7863d-0c1c-49c2-a655-958c21afb1b2",
   "metadata": {},
   "outputs": [],
   "source": []
  }
 ],
 "metadata": {
  "kernelspec": {
   "display_name": "Python 3 (ipykernel)",
   "language": "python",
   "name": "python3"
  },
  "language_info": {
   "codemirror_mode": {
    "name": "ipython",
    "version": 3
   },
   "file_extension": ".py",
   "mimetype": "text/x-python",
   "name": "python",
   "nbconvert_exporter": "python",
   "pygments_lexer": "ipython3",
   "version": "3.11.7"
  },
  "widgets": {
   "application/vnd.jupyter.widget-state+json": {
    "state": {},
    "version_major": 2,
    "version_minor": 0
   }
  }
 },
 "nbformat": 4,
 "nbformat_minor": 5
}
